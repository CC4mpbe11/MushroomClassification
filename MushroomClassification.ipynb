{
  "cells": [
    {
      "cell_type": "markdown",
      "metadata": {
        "id": "view-in-github",
        "colab_type": "text"
      },
      "source": [
        "<a href=\"https://colab.research.google.com/github/CC4mpbe11/MushroomClassification/blob/main/MushroomClassification.ipynb\" target=\"_parent\"><img src=\"https://colab.research.google.com/assets/colab-badge.svg\" alt=\"Open In Colab\"/></a>"
      ]
    },
    {
      "cell_type": "code",
      "execution_count": null,
      "metadata": {
        "id": "3T5Z5d2iJTCy"
      },
      "outputs": [],
      "source": [
        "pip install tensorflow"
      ]
    },
    {
      "cell_type": "code",
      "execution_count": null,
      "metadata": {
        "id": "O_C0d-m_YuQo"
      },
      "outputs": [],
      "source": [
        "pip install tensorflow-gpu"
      ]
    },
    {
      "cell_type": "code",
      "execution_count": null,
      "metadata": {
        "id": "tbPXpDL2hU8N"
      },
      "outputs": [],
      "source": [
        "pip install -q sklearn"
      ]
    },
    {
      "cell_type": "code",
      "execution_count": 4,
      "metadata": {
        "id": "OWA8V2WNis2B"
      },
      "outputs": [],
      "source": [
        "pip install -q keras"
      ]
    },
    {
      "cell_type": "code",
      "execution_count": 5,
      "metadata": {
        "id": "NEoPhtLhYcoS"
      },
      "outputs": [],
      "source": [
        "from __future__ import absolute_import, division, print_function, unicode_literals\n",
        "from six.moves import urllib\n",
        "from IPython.display import clear_output\n",
        "from google.colab import files\n",
        "from google.colab import drive\n",
        "from sklearn.model_selection import train_test_split\n",
        "from sklearn.model_selection import cross_val_score\n",
        "from sklearn.linear_model import LogisticRegression\n",
        "from sklearn.preprocessing import OneHotEncoder\n",
        "from sklearn.compose import make_column_transformer\n",
        "from sklearn.pipeline import make_pipeline\n",
        "from pathlib import Path  \n",
        "\n",
        "import io\n",
        "import tensorflow as tf\n",
        "import numpy as np\n",
        "import pandas as pd\n",
        "pd.options.display.max_rows = 100\n",
        "import tensorflow.compat.v2.feature_column as fc"
      ]
    },
    {
      "cell_type": "code",
      "execution_count": null,
      "metadata": {
        "id": "ibOjbHRl1066"
      },
      "outputs": [],
      "source": [
        "mushroom_data = df[['edibility', # x\n",
        "          'cap-diameter', #\n",
        "          'cap-shape', #\n",
        "          'cap-surface', # new category\n",
        "          'cap-color', #\n",
        "          'does-bruise-or-bleed', #\n",
        "          'gill-attachment', # new category\n",
        "          'gill-color', #\n",
        "          'stem-height', #\n",
        "          'stem-width', #\n",
        "          'stem-color', #\n",
        "          'has-ring', #\n",
        "          'ring-type', # new category\n",
        "          'habitat', #\n",
        "          'season']]"
      ]
    },
    {
      "cell_type": "code",
      "execution_count": null,
      "metadata": {
        "id": "03xc0G762lQ-"
      },
      "outputs": [],
      "source": [
        "mushroom_data[\"cap-surface\"].fillna(\"n\", inplace = True)\n",
        "mushroom_data[\"gill-attachment\"].fillna(\"n\", inplace = True)\n",
        "mushroom_data[\"ring-type\"].fillna(\"n\", inplace = True)"
      ]
    },
    {
      "cell_type": "code",
      "execution_count": null,
      "metadata": {
        "id": "5z5TxQoGDDTQ"
      },
      "outputs": [],
      "source": [
        "y = mushroom_data['edibility']"
      ]
    },
    {
      "cell_type": "code",
      "execution_count": null,
      "metadata": {
        "colab": {
          "base_uri": "https://localhost:8080/",
          "height": 206
        },
        "id": "5nGRjemjk4uY",
        "outputId": "787098cb-9e9a-48ef-9666-e8f585c69907"
      },
      "outputs": [
        {
          "data": {
            "text/html": [
              "\n",
              "  <div id=\"df-79693b0f-1fc9-4e8f-a2fa-ef806f13953d\">\n",
              "    <div class=\"colab-df-container\">\n",
              "      <div>\n",
              "<style scoped>\n",
              "    .dataframe tbody tr th:only-of-type {\n",
              "        vertical-align: middle;\n",
              "    }\n",
              "\n",
              "    .dataframe tbody tr th {\n",
              "        vertical-align: top;\n",
              "    }\n",
              "\n",
              "    .dataframe thead th {\n",
              "        text-align: right;\n",
              "    }\n",
              "</style>\n",
              "<table border=\"1\" class=\"dataframe\">\n",
              "  <thead>\n",
              "    <tr style=\"text-align: right;\">\n",
              "      <th></th>\n",
              "      <th>cap-diameter</th>\n",
              "      <th>cap-shape</th>\n",
              "      <th>cap-surface</th>\n",
              "      <th>cap-color</th>\n",
              "      <th>does-bruise-or-bleed</th>\n",
              "      <th>gill-attachment</th>\n",
              "      <th>gill-color</th>\n",
              "      <th>stem-height</th>\n",
              "      <th>stem-width</th>\n",
              "      <th>stem-color</th>\n",
              "      <th>has-ring</th>\n",
              "      <th>ring-type</th>\n",
              "      <th>habitat</th>\n",
              "      <th>season</th>\n",
              "    </tr>\n",
              "  </thead>\n",
              "  <tbody>\n",
              "    <tr>\n",
              "      <th>0</th>\n",
              "      <td>15.26</td>\n",
              "      <td>x</td>\n",
              "      <td>g</td>\n",
              "      <td>o</td>\n",
              "      <td>0</td>\n",
              "      <td>e</td>\n",
              "      <td>w</td>\n",
              "      <td>16.95</td>\n",
              "      <td>17.09</td>\n",
              "      <td>w</td>\n",
              "      <td>1</td>\n",
              "      <td>g</td>\n",
              "      <td>d</td>\n",
              "      <td>w</td>\n",
              "    </tr>\n",
              "    <tr>\n",
              "      <th>1</th>\n",
              "      <td>16.60</td>\n",
              "      <td>x</td>\n",
              "      <td>g</td>\n",
              "      <td>o</td>\n",
              "      <td>0</td>\n",
              "      <td>e</td>\n",
              "      <td>w</td>\n",
              "      <td>17.99</td>\n",
              "      <td>18.19</td>\n",
              "      <td>w</td>\n",
              "      <td>1</td>\n",
              "      <td>g</td>\n",
              "      <td>d</td>\n",
              "      <td>u</td>\n",
              "    </tr>\n",
              "    <tr>\n",
              "      <th>2</th>\n",
              "      <td>14.07</td>\n",
              "      <td>x</td>\n",
              "      <td>g</td>\n",
              "      <td>o</td>\n",
              "      <td>0</td>\n",
              "      <td>e</td>\n",
              "      <td>w</td>\n",
              "      <td>17.80</td>\n",
              "      <td>17.74</td>\n",
              "      <td>w</td>\n",
              "      <td>1</td>\n",
              "      <td>g</td>\n",
              "      <td>d</td>\n",
              "      <td>w</td>\n",
              "    </tr>\n",
              "    <tr>\n",
              "      <th>3</th>\n",
              "      <td>14.17</td>\n",
              "      <td>f</td>\n",
              "      <td>h</td>\n",
              "      <td>e</td>\n",
              "      <td>0</td>\n",
              "      <td>e</td>\n",
              "      <td>w</td>\n",
              "      <td>15.77</td>\n",
              "      <td>15.98</td>\n",
              "      <td>w</td>\n",
              "      <td>1</td>\n",
              "      <td>p</td>\n",
              "      <td>d</td>\n",
              "      <td>w</td>\n",
              "    </tr>\n",
              "    <tr>\n",
              "      <th>4</th>\n",
              "      <td>14.64</td>\n",
              "      <td>x</td>\n",
              "      <td>h</td>\n",
              "      <td>o</td>\n",
              "      <td>0</td>\n",
              "      <td>e</td>\n",
              "      <td>w</td>\n",
              "      <td>16.53</td>\n",
              "      <td>17.20</td>\n",
              "      <td>w</td>\n",
              "      <td>1</td>\n",
              "      <td>p</td>\n",
              "      <td>d</td>\n",
              "      <td>w</td>\n",
              "    </tr>\n",
              "  </tbody>\n",
              "</table>\n",
              "</div>\n",
              "      <button class=\"colab-df-convert\" onclick=\"convertToInteractive('df-79693b0f-1fc9-4e8f-a2fa-ef806f13953d')\"\n",
              "              title=\"Convert this dataframe to an interactive table.\"\n",
              "              style=\"display:none;\">\n",
              "        \n",
              "  <svg xmlns=\"http://www.w3.org/2000/svg\" height=\"24px\"viewBox=\"0 0 24 24\"\n",
              "       width=\"24px\">\n",
              "    <path d=\"M0 0h24v24H0V0z\" fill=\"none\"/>\n",
              "    <path d=\"M18.56 5.44l.94 2.06.94-2.06 2.06-.94-2.06-.94-.94-2.06-.94 2.06-2.06.94zm-11 1L8.5 8.5l.94-2.06 2.06-.94-2.06-.94L8.5 2.5l-.94 2.06-2.06.94zm10 10l.94 2.06.94-2.06 2.06-.94-2.06-.94-.94-2.06-.94 2.06-2.06.94z\"/><path d=\"M17.41 7.96l-1.37-1.37c-.4-.4-.92-.59-1.43-.59-.52 0-1.04.2-1.43.59L10.3 9.45l-7.72 7.72c-.78.78-.78 2.05 0 2.83L4 21.41c.39.39.9.59 1.41.59.51 0 1.02-.2 1.41-.59l7.78-7.78 2.81-2.81c.8-.78.8-2.07 0-2.86zM5.41 20L4 18.59l7.72-7.72 1.47 1.35L5.41 20z\"/>\n",
              "  </svg>\n",
              "      </button>\n",
              "      \n",
              "  <style>\n",
              "    .colab-df-container {\n",
              "      display:flex;\n",
              "      flex-wrap:wrap;\n",
              "      gap: 12px;\n",
              "    }\n",
              "\n",
              "    .colab-df-convert {\n",
              "      background-color: #E8F0FE;\n",
              "      border: none;\n",
              "      border-radius: 50%;\n",
              "      cursor: pointer;\n",
              "      display: none;\n",
              "      fill: #1967D2;\n",
              "      height: 32px;\n",
              "      padding: 0 0 0 0;\n",
              "      width: 32px;\n",
              "    }\n",
              "\n",
              "    .colab-df-convert:hover {\n",
              "      background-color: #E2EBFA;\n",
              "      box-shadow: 0px 1px 2px rgba(60, 64, 67, 0.3), 0px 1px 3px 1px rgba(60, 64, 67, 0.15);\n",
              "      fill: #174EA6;\n",
              "    }\n",
              "\n",
              "    [theme=dark] .colab-df-convert {\n",
              "      background-color: #3B4455;\n",
              "      fill: #D2E3FC;\n",
              "    }\n",
              "\n",
              "    [theme=dark] .colab-df-convert:hover {\n",
              "      background-color: #434B5C;\n",
              "      box-shadow: 0px 1px 3px 1px rgba(0, 0, 0, 0.15);\n",
              "      filter: drop-shadow(0px 1px 2px rgba(0, 0, 0, 0.3));\n",
              "      fill: #FFFFFF;\n",
              "    }\n",
              "  </style>\n",
              "\n",
              "      <script>\n",
              "        const buttonEl =\n",
              "          document.querySelector('#df-79693b0f-1fc9-4e8f-a2fa-ef806f13953d button.colab-df-convert');\n",
              "        buttonEl.style.display =\n",
              "          google.colab.kernel.accessAllowed ? 'block' : 'none';\n",
              "\n",
              "        async function convertToInteractive(key) {\n",
              "          const element = document.querySelector('#df-79693b0f-1fc9-4e8f-a2fa-ef806f13953d');\n",
              "          const dataTable =\n",
              "            await google.colab.kernel.invokeFunction('convertToInteractive',\n",
              "                                                     [key], {});\n",
              "          if (!dataTable) return;\n",
              "\n",
              "          const docLinkHtml = 'Like what you see? Visit the ' +\n",
              "            '<a target=\"_blank\" href=https://colab.research.google.com/notebooks/data_table.ipynb>data table notebook</a>'\n",
              "            + ' to learn more about interactive tables.';\n",
              "          element.innerHTML = '';\n",
              "          dataTable['output_type'] = 'display_data';\n",
              "          await google.colab.output.renderOutput(dataTable, element);\n",
              "          const docLink = document.createElement('div');\n",
              "          docLink.innerHTML = docLinkHtml;\n",
              "          element.appendChild(docLink);\n",
              "        }\n",
              "      </script>\n",
              "    </div>\n",
              "  </div>\n",
              "  "
            ],
            "text/plain": [
              "   cap-diameter cap-shape cap-surface cap-color  does-bruise-or-bleed  \\\n",
              "0         15.26         x           g         o                     0   \n",
              "1         16.60         x           g         o                     0   \n",
              "2         14.07         x           g         o                     0   \n",
              "3         14.17         f           h         e                     0   \n",
              "4         14.64         x           h         o                     0   \n",
              "\n",
              "  gill-attachment gill-color  stem-height  stem-width stem-color  has-ring  \\\n",
              "0               e          w        16.95       17.09          w         1   \n",
              "1               e          w        17.99       18.19          w         1   \n",
              "2               e          w        17.80       17.74          w         1   \n",
              "3               e          w        15.77       15.98          w         1   \n",
              "4               e          w        16.53       17.20          w         1   \n",
              "\n",
              "  ring-type habitat season  \n",
              "0         g       d      w  \n",
              "1         g       d      u  \n",
              "2         g       d      w  \n",
              "3         p       d      w  \n",
              "4         p       d      w  "
            ]
          },
          "execution_count": 21,
          "metadata": {},
          "output_type": "execute_result"
        }
      ],
      "source": [
        "x.head()"
      ]
    },
    {
      "cell_type": "code",
      "execution_count": null,
      "metadata": {
        "id": "MD1nUj-4k4x5"
      },
      "outputs": [],
      "source": [
        "y.head()"
      ]
    },
    {
      "cell_type": "code",
      "execution_count": null,
      "metadata": {
        "id": "qOf_zvolJ3Y4"
      },
      "outputs": [],
      "source": [
        "x = mushroom_data[['cap-diameter',\n",
        "          'cap-shape',\n",
        "          'cap-surface',\n",
        "          'cap-color',\n",
        "          'does-bruise-or-bleed',\n",
        "          'gill-attachment',\n",
        "          'gill-color',\n",
        "          'stem-height',\n",
        "          'stem-width',\n",
        "          'stem-color',\n",
        "          'has-ring',\n",
        "          'ring-type',\n",
        "          'habitat',\n",
        "          'season']]"
      ]
    },
    {
      "cell_type": "code",
      "execution_count": null,
      "metadata": {
        "id": "-vkgBaGc8kyg"
      },
      "outputs": [],
      "source": [
        "x[\"cap-surface\"].fillna(\"n\", inplace = True)\n",
        "x[\"gill-attachment\"].fillna(\"n\", inplace = True)\n",
        "x[\"ring-type\"].fillna(\"n\", inplace = True)"
      ]
    },
    {
      "cell_type": "code",
      "execution_count": 7,
      "metadata": {
        "id": "9RaIzSVe_f0b",
        "colab": {
          "base_uri": "https://localhost:8080/"
        },
        "outputId": "2da58a28-f895-42e9-81fc-3248ab3d012c"
      },
      "outputs": [
        {
          "output_type": "stream",
          "name": "stdout",
          "text": [
            "Mounted at /content/drive\n"
          ]
        }
      ],
      "source": [
        "drive.mount('/content/drive')"
      ]
    },
    {
      "cell_type": "code",
      "execution_count": null,
      "metadata": {
        "id": "vCoFbdDx6Qix"
      },
      "outputs": [],
      "source": [
        "# Load\n",
        "\n",
        "mushroom_data_path = Path('/content/drive/MyDrive/Datasets/Mushroom Data/mushroom_data.csv')\n",
        "mushroom_data = pd.read_csv(mushroom_data_path) "
      ]
    },
    {
      "cell_type": "code",
      "execution_count": null,
      "metadata": {
        "id": "UzZ6IQjjAsJX"
      },
      "outputs": [],
      "source": [
        "ypath = Path('/content/drive/MyDrive/Datasets/Mushroom Data/y.csv')\n",
        "y = pd.read_csv(ypath)"
      ]
    },
    {
      "cell_type": "code",
      "execution_count": null,
      "metadata": {
        "id": "FMv-B60sAsgq"
      },
      "outputs": [],
      "source": [
        "xpath = Path('/content/drive/MyDrive/Datasets/Mushroom Data/x.csv')\n",
        "x = pd.read_csv(xpath)"
      ]
    },
    {
      "cell_type": "code",
      "execution_count": null,
      "metadata": {
        "id": "MJo5YFLp9IM4"
      },
      "outputs": [],
      "source": [
        "# Save\n",
        "\n",
        "mushroom_data_path = Path('/content/drive/MyDrive/Datasets/Mushroom Data/mushroom_data.csv')\n",
        "mushroom_data_path.parent.mkdir(parents=True, exist_ok=True)\n",
        "mushroom_data.to_csv(mushroom_data_path, index=False) "
      ]
    },
    {
      "cell_type": "code",
      "execution_count": null,
      "metadata": {
        "id": "xIFqRUXwAtHd"
      },
      "outputs": [],
      "source": [
        "ypath = Path('/content/drive/MyDrive/Datasets/Mushroom Data/y.csv')  \n",
        "ypath.parent.mkdir(parents=True, exist_ok=True)  \n",
        "y.to_csv(ypath, index=False) "
      ]
    },
    {
      "cell_type": "code",
      "execution_count": null,
      "metadata": {
        "id": "_7_lqOD0AtN-"
      },
      "outputs": [],
      "source": [
        "xpath = Path('/content/drive/MyDrive/Datasets/Mushroom Data/x.csv')  \n",
        "xpath.parent.mkdir(parents=True, exist_ok=True)  \n",
        "x.to_csv(xpath, index=False) "
      ]
    },
    {
      "cell_type": "code",
      "execution_count": null,
      "metadata": {
        "id": "FLjm9jRIXUsG"
      },
      "outputs": [],
      "source": [
        "# Replace edibility with 1 for edible, and 0 for poisonous\n",
        "\n",
        "mushroom_data['edibility'] = mushroom_data['edibility'].replace(\"p\", 0)\n",
        "mushroom_data['edibility'] = mushroom_data['edibility'].replace(\"e\", 1)\n",
        "\n",
        "mushroom_data['does-bruise-or-bleed'] = mushroom_data['does-bruise-or-bleed'].replace(\"t\", 1)\n",
        "mushroom_data['does-bruise-or-bleed'] = mushroom_data['does-bruise-or-bleed'].replace(\"f\", 0)\n",
        "\n",
        "mushroom_data['has-ring'] = mushroom_data['has-ring'].replace(\"t\", 1)\n",
        "mushroom_data['has-ring'] = mushroom_data['has-ring'].replace(\"f\", 0)"
      ]
    },
    {
      "cell_type": "code",
      "source": [
        "y['edibility'] = y['edibility'].replace(\"p\", 0)\n",
        "y['edibility'] = y['edibility'].replace(\"e\", 1)"
      ],
      "metadata": {
        "id": "Bz434jhMus0w"
      },
      "execution_count": null,
      "outputs": []
    },
    {
      "cell_type": "code",
      "source": [
        "x['does-bruise-or-bleed'] = x['does-bruise-or-bleed'].replace(\"t\", 1)\n",
        "x['does-bruise-or-bleed'] = x['does-bruise-or-bleed'].replace(\"f\", 0)\n",
        "\n",
        "x['has-ring'] = x['has-ring'].replace(\"t\", 1)\n",
        "x['has-ring'] = x['has-ring'].replace(\"f\", 0)"
      ],
      "metadata": {
        "id": "jZqsxuQwuwH6"
      },
      "execution_count": null,
      "outputs": []
    },
    {
      "cell_type": "code",
      "execution_count": null,
      "metadata": {
        "colab": {
          "base_uri": "https://localhost:8080/"
        },
        "id": "ZP8Kf9zZYeyc",
        "outputId": "f42036b8-4b97-4396-ace7-b7399a5dcfc0"
      },
      "outputs": [
        {
          "data": {
            "text/plain": [
              "dtype('int64')"
            ]
          },
          "execution_count": 57,
          "metadata": {},
          "output_type": "execute_result"
        }
      ],
      "source": [
        "y.dtype"
      ]
    },
    {
      "cell_type": "code",
      "execution_count": null,
      "metadata": {
        "id": "Ia4ELWAcaS6h"
      },
      "outputs": [],
      "source": [
        "y_float = pd.to_numeric(y, downcast='float')"
      ]
    },
    {
      "cell_type": "code",
      "execution_count": null,
      "metadata": {
        "id": "_fMdUO1bTp1x"
      },
      "outputs": [],
      "source": [
        "ohe = OneHotEncoder(sparse = False)"
      ]
    },
    {
      "cell_type": "code",
      "execution_count": null,
      "metadata": {
        "colab": {
          "base_uri": "https://localhost:8080/"
        },
        "id": "cdwmgYHgVV0k",
        "outputId": "3c294c28-98d7-4d6d-d0c3-62e8ba1a3f59"
      },
      "outputs": [
        {
          "data": {
            "text/plain": [
              "array([[0., 0., 0., ..., 0., 0., 1.],\n",
              "       [0., 0., 0., ..., 0., 0., 1.],\n",
              "       [0., 0., 0., ..., 0., 0., 1.],\n",
              "       ...,\n",
              "       [0., 0., 0., ..., 0., 1., 0.],\n",
              "       [0., 0., 1., ..., 0., 0., 0.],\n",
              "       [0., 0., 0., ..., 0., 1., 0.]])"
            ]
          },
          "execution_count": 13,
          "metadata": {},
          "output_type": "execute_result"
        }
      ],
      "source": [
        "ohe.fit_transform(mushroom_data[['cap-shape']])"
      ]
    },
    {
      "cell_type": "code",
      "execution_count": null,
      "metadata": {
        "colab": {
          "base_uri": "https://localhost:8080/"
        },
        "id": "4YuXLkwew_dM",
        "outputId": "fb7fa17f-77f2-41e0-d6a6-e7572cb23dc1"
      },
      "outputs": [
        {
          "data": {
            "text/plain": [
              "(61069,)"
            ]
          },
          "execution_count": 10,
          "metadata": {},
          "output_type": "execute_result"
        }
      ],
      "source": [
        "cap_diam_col = mushroom_data['cap-diameter']\n",
        "stem_width_col = mushroom_data['stem-width']\n",
        "stem_height_col = mushroom_data['stem-height']\n",
        "\n",
        "stem_width_col.shape"
      ]
    },
    {
      "cell_type": "code",
      "execution_count": null,
      "metadata": {
        "id": "ZoS_mdTOnTos"
      },
      "outputs": [],
      "source": [
        "column_trans = make_column_transformer(\n",
        "    (OneHotEncoder(), ['cap-shape',\n",
        "                       'cap-surface',\n",
        "                       'cap-color',\n",
        "                       'gill-attachment',\n",
        "                       'gill-color',\n",
        "                       'stem-color',\n",
        "                       'ring-type',\n",
        "                       'habitat',\n",
        "                       'season']), \n",
        "                       remainder = 'passthrough')"
      ]
    },
    {
      "cell_type": "code",
      "execution_count": null,
      "metadata": {
        "colab": {
          "base_uri": "https://localhost:8080/",
          "height": 424
        },
        "id": "2ptPiZIGsUKT",
        "outputId": "9c584116-2aca-4c40-f987-fa65c0d3d139"
      },
      "outputs": [
        {
          "data": {
            "text/html": [
              "\n",
              "  <div id=\"df-f68b462d-c218-409f-b7b5-cd85effaabfa\">\n",
              "    <div class=\"colab-df-container\">\n",
              "      <div>\n",
              "<style scoped>\n",
              "    .dataframe tbody tr th:only-of-type {\n",
              "        vertical-align: middle;\n",
              "    }\n",
              "\n",
              "    .dataframe tbody tr th {\n",
              "        vertical-align: top;\n",
              "    }\n",
              "\n",
              "    .dataframe thead th {\n",
              "        text-align: right;\n",
              "    }\n",
              "</style>\n",
              "<table border=\"1\" class=\"dataframe\">\n",
              "  <thead>\n",
              "    <tr style=\"text-align: right;\">\n",
              "      <th></th>\n",
              "      <th>cap-shape_b</th>\n",
              "      <th>cap-shape_c</th>\n",
              "      <th>cap-shape_f</th>\n",
              "      <th>cap-shape_o</th>\n",
              "      <th>cap-shape_p</th>\n",
              "      <th>cap-shape_s</th>\n",
              "      <th>cap-shape_x</th>\n",
              "    </tr>\n",
              "  </thead>\n",
              "  <tbody>\n",
              "    <tr>\n",
              "      <th>0</th>\n",
              "      <td>0</td>\n",
              "      <td>0</td>\n",
              "      <td>0</td>\n",
              "      <td>0</td>\n",
              "      <td>0</td>\n",
              "      <td>0</td>\n",
              "      <td>1</td>\n",
              "    </tr>\n",
              "    <tr>\n",
              "      <th>1</th>\n",
              "      <td>0</td>\n",
              "      <td>0</td>\n",
              "      <td>0</td>\n",
              "      <td>0</td>\n",
              "      <td>0</td>\n",
              "      <td>0</td>\n",
              "      <td>1</td>\n",
              "    </tr>\n",
              "    <tr>\n",
              "      <th>2</th>\n",
              "      <td>0</td>\n",
              "      <td>0</td>\n",
              "      <td>0</td>\n",
              "      <td>0</td>\n",
              "      <td>0</td>\n",
              "      <td>0</td>\n",
              "      <td>1</td>\n",
              "    </tr>\n",
              "    <tr>\n",
              "      <th>3</th>\n",
              "      <td>0</td>\n",
              "      <td>0</td>\n",
              "      <td>1</td>\n",
              "      <td>0</td>\n",
              "      <td>0</td>\n",
              "      <td>0</td>\n",
              "      <td>0</td>\n",
              "    </tr>\n",
              "    <tr>\n",
              "      <th>4</th>\n",
              "      <td>0</td>\n",
              "      <td>0</td>\n",
              "      <td>0</td>\n",
              "      <td>0</td>\n",
              "      <td>0</td>\n",
              "      <td>0</td>\n",
              "      <td>1</td>\n",
              "    </tr>\n",
              "    <tr>\n",
              "      <th>...</th>\n",
              "      <td>...</td>\n",
              "      <td>...</td>\n",
              "      <td>...</td>\n",
              "      <td>...</td>\n",
              "      <td>...</td>\n",
              "      <td>...</td>\n",
              "      <td>...</td>\n",
              "    </tr>\n",
              "    <tr>\n",
              "      <th>61064</th>\n",
              "      <td>0</td>\n",
              "      <td>0</td>\n",
              "      <td>0</td>\n",
              "      <td>0</td>\n",
              "      <td>0</td>\n",
              "      <td>1</td>\n",
              "      <td>0</td>\n",
              "    </tr>\n",
              "    <tr>\n",
              "      <th>61065</th>\n",
              "      <td>0</td>\n",
              "      <td>0</td>\n",
              "      <td>1</td>\n",
              "      <td>0</td>\n",
              "      <td>0</td>\n",
              "      <td>0</td>\n",
              "      <td>0</td>\n",
              "    </tr>\n",
              "    <tr>\n",
              "      <th>61066</th>\n",
              "      <td>0</td>\n",
              "      <td>0</td>\n",
              "      <td>0</td>\n",
              "      <td>0</td>\n",
              "      <td>0</td>\n",
              "      <td>1</td>\n",
              "      <td>0</td>\n",
              "    </tr>\n",
              "    <tr>\n",
              "      <th>61067</th>\n",
              "      <td>0</td>\n",
              "      <td>0</td>\n",
              "      <td>1</td>\n",
              "      <td>0</td>\n",
              "      <td>0</td>\n",
              "      <td>0</td>\n",
              "      <td>0</td>\n",
              "    </tr>\n",
              "    <tr>\n",
              "      <th>61068</th>\n",
              "      <td>0</td>\n",
              "      <td>0</td>\n",
              "      <td>0</td>\n",
              "      <td>0</td>\n",
              "      <td>0</td>\n",
              "      <td>1</td>\n",
              "      <td>0</td>\n",
              "    </tr>\n",
              "  </tbody>\n",
              "</table>\n",
              "<p>61069 rows × 7 columns</p>\n",
              "</div>\n",
              "      <button class=\"colab-df-convert\" onclick=\"convertToInteractive('df-f68b462d-c218-409f-b7b5-cd85effaabfa')\"\n",
              "              title=\"Convert this dataframe to an interactive table.\"\n",
              "              style=\"display:none;\">\n",
              "        \n",
              "  <svg xmlns=\"http://www.w3.org/2000/svg\" height=\"24px\"viewBox=\"0 0 24 24\"\n",
              "       width=\"24px\">\n",
              "    <path d=\"M0 0h24v24H0V0z\" fill=\"none\"/>\n",
              "    <path d=\"M18.56 5.44l.94 2.06.94-2.06 2.06-.94-2.06-.94-.94-2.06-.94 2.06-2.06.94zm-11 1L8.5 8.5l.94-2.06 2.06-.94-2.06-.94L8.5 2.5l-.94 2.06-2.06.94zm10 10l.94 2.06.94-2.06 2.06-.94-2.06-.94-.94-2.06-.94 2.06-2.06.94z\"/><path d=\"M17.41 7.96l-1.37-1.37c-.4-.4-.92-.59-1.43-.59-.52 0-1.04.2-1.43.59L10.3 9.45l-7.72 7.72c-.78.78-.78 2.05 0 2.83L4 21.41c.39.39.9.59 1.41.59.51 0 1.02-.2 1.41-.59l7.78-7.78 2.81-2.81c.8-.78.8-2.07 0-2.86zM5.41 20L4 18.59l7.72-7.72 1.47 1.35L5.41 20z\"/>\n",
              "  </svg>\n",
              "      </button>\n",
              "      \n",
              "  <style>\n",
              "    .colab-df-container {\n",
              "      display:flex;\n",
              "      flex-wrap:wrap;\n",
              "      gap: 12px;\n",
              "    }\n",
              "\n",
              "    .colab-df-convert {\n",
              "      background-color: #E8F0FE;\n",
              "      border: none;\n",
              "      border-radius: 50%;\n",
              "      cursor: pointer;\n",
              "      display: none;\n",
              "      fill: #1967D2;\n",
              "      height: 32px;\n",
              "      padding: 0 0 0 0;\n",
              "      width: 32px;\n",
              "    }\n",
              "\n",
              "    .colab-df-convert:hover {\n",
              "      background-color: #E2EBFA;\n",
              "      box-shadow: 0px 1px 2px rgba(60, 64, 67, 0.3), 0px 1px 3px 1px rgba(60, 64, 67, 0.15);\n",
              "      fill: #174EA6;\n",
              "    }\n",
              "\n",
              "    [theme=dark] .colab-df-convert {\n",
              "      background-color: #3B4455;\n",
              "      fill: #D2E3FC;\n",
              "    }\n",
              "\n",
              "    [theme=dark] .colab-df-convert:hover {\n",
              "      background-color: #434B5C;\n",
              "      box-shadow: 0px 1px 3px 1px rgba(0, 0, 0, 0.15);\n",
              "      filter: drop-shadow(0px 1px 2px rgba(0, 0, 0, 0.3));\n",
              "      fill: #FFFFFF;\n",
              "    }\n",
              "  </style>\n",
              "\n",
              "      <script>\n",
              "        const buttonEl =\n",
              "          document.querySelector('#df-f68b462d-c218-409f-b7b5-cd85effaabfa button.colab-df-convert');\n",
              "        buttonEl.style.display =\n",
              "          google.colab.kernel.accessAllowed ? 'block' : 'none';\n",
              "\n",
              "        async function convertToInteractive(key) {\n",
              "          const element = document.querySelector('#df-f68b462d-c218-409f-b7b5-cd85effaabfa');\n",
              "          const dataTable =\n",
              "            await google.colab.kernel.invokeFunction('convertToInteractive',\n",
              "                                                     [key], {});\n",
              "          if (!dataTable) return;\n",
              "\n",
              "          const docLinkHtml = 'Like what you see? Visit the ' +\n",
              "            '<a target=\"_blank\" href=https://colab.research.google.com/notebooks/data_table.ipynb>data table notebook</a>'\n",
              "            + ' to learn more about interactive tables.';\n",
              "          element.innerHTML = '';\n",
              "          dataTable['output_type'] = 'display_data';\n",
              "          await google.colab.output.renderOutput(dataTable, element);\n",
              "          const docLink = document.createElement('div');\n",
              "          docLink.innerHTML = docLinkHtml;\n",
              "          element.appendChild(docLink);\n",
              "        }\n",
              "      </script>\n",
              "    </div>\n",
              "  </div>\n",
              "  "
            ],
            "text/plain": [
              "       cap-shape_b  cap-shape_c  cap-shape_f  cap-shape_o  cap-shape_p  \\\n",
              "0                0            0            0            0            0   \n",
              "1                0            0            0            0            0   \n",
              "2                0            0            0            0            0   \n",
              "3                0            0            1            0            0   \n",
              "4                0            0            0            0            0   \n",
              "...            ...          ...          ...          ...          ...   \n",
              "61064            0            0            0            0            0   \n",
              "61065            0            0            1            0            0   \n",
              "61066            0            0            0            0            0   \n",
              "61067            0            0            1            0            0   \n",
              "61068            0            0            0            0            0   \n",
              "\n",
              "       cap-shape_s  cap-shape_x  \n",
              "0                0            1  \n",
              "1                0            1  \n",
              "2                0            1  \n",
              "3                0            0  \n",
              "4                0            1  \n",
              "...            ...          ...  \n",
              "61064            1            0  \n",
              "61065            0            0  \n",
              "61066            1            0  \n",
              "61067            0            0  \n",
              "61068            1            0  \n",
              "\n",
              "[61069 rows x 7 columns]"
            ]
          },
          "execution_count": 109,
          "metadata": {},
          "output_type": "execute_result"
        }
      ],
      "source": [
        "pd.get_dummies(x['cap-shape'], prefix='cap-shape')\n",
        "#\n",
        "#\n",
        "#\n",
        "#"
      ]
    },
    {
      "cell_type": "code",
      "execution_count": null,
      "metadata": {
        "id": "mp4jA3Vy8u3p"
      },
      "outputs": [],
      "source": [
        "empty_list = []\n",
        "\n",
        "for col_name in x.drop(['cap-diameter', 'stem-width', 'stem-height','does-bruise-or-bleed','has-ring'], axis=1).columns:\n",
        "    empty_list.append(pd.get_dummies(x[col_name], prefix=col_name))\n",
        "dummies_df = pd.concat(empty_list, axis=1)\n"
      ]
    },
    {
      "cell_type": "code",
      "execution_count": null,
      "metadata": {
        "id": "StHLTSM6-AZI"
      },
      "outputs": [],
      "source": [
        "dummies_df.head().T"
      ]
    },
    {
      "cell_type": "code",
      "execution_count": null,
      "metadata": {
        "id": "20eWdS58pycB"
      },
      "outputs": [],
      "source": [
        "dummies_df['cap-diameter'] = x['cap-diameter']\n",
        "dummies_df['stem-width'] = x['stem-width']\n",
        "dummies_df['stem-height'] = x['stem-height']\n",
        "dummies_df['does-bruise-or-bleed'] = x['does-bruise-or-bleed']\n",
        "dummies_df['has-ring'] = x['has-ring']"
      ]
    },
    {
      "cell_type": "code",
      "execution_count": null,
      "metadata": {
        "id": "QCOSKNxomT8h"
      },
      "outputs": [],
      "source": [
        "dummies_df.head().T"
      ]
    },
    {
      "cell_type": "code",
      "execution_count": null,
      "metadata": {
        "colab": {
          "base_uri": "https://localhost:8080/"
        },
        "id": "ebt_mdzkc2fq",
        "outputId": "deeeb4ed-2194-4b46-cdf1-54580c943569"
      },
      "outputs": [
        {
          "data": {
            "text/plain": [
              "(61069, 90)"
            ]
          },
          "execution_count": 15,
          "metadata": {},
          "output_type": "execute_result"
        }
      ],
      "source": [
        "dummies_df.shape"
      ]
    },
    {
      "cell_type": "code",
      "execution_count": null,
      "metadata": {
        "id": "_IqRJeHS1sTN"
      },
      "outputs": [],
      "source": [
        "cap_shape_dict = {'b':'csh_bell'\n",
        ", 'c':'csh_conical'\n",
        ", 'x':'csh_convex'\n",
        ", 'f':'csh_flat'}\n",
        "\n",
        "x.replace({'cap-shape':cap_shape_dict}, inplace=True)\n",
        "\n",
        "cap_surface_dict = {'i':'cs_fibrous'\n",
        ", 'g':'cs_grooves'\n",
        ", 'y':'cs_scaly'\n",
        ", 's':'cs_smooth'\n",
        ", 'h':'cs_shiny'\n",
        ", '1':'cs_leathery'\n",
        ", 'k':'cs_silky'\n",
        ", 't':'cs_sticky'\n",
        ", 'w':'cs_wrinkled'\n",
        ", 'e':'cs_fleshy'}\n",
        "\n",
        "x.replace({'cap-surface':cap_surface_dict}, inplace=True)\n",
        "\n",
        "cap_color_dict = {'n':'cc_brown'\n",
        ", 'b':'cc_buff'\n",
        ", 'g':'cc_gray'\n",
        ", 'r':'cc_green'\n",
        ", 'p':'cc_pink'\n",
        ", 'u':'cc_purple'\n",
        ", 'e':'cc_red'\n",
        ", 'w':'cc_white'\n",
        ", 'y':'cc_yellow'\n",
        ", 'l':'cc_blue'\n",
        ", 'o':'cc_orange'\n",
        ", 'k':'cc_black'}\n",
        "\n",
        "x.replace({'cap-color':cap_color_dict}, inplace=True)\n",
        "\n",
        "gill_attach_dict = {'a':'ga_adnate'\n",
        ", 'x':'ga_adnexed'\n",
        ", 'd':'ga_decurrent'\n",
        ", 'e':'ga_free'\n",
        ", 's':'ga_sinuate'\n",
        ", 'p':'ga_pores'\n",
        ", 'f':'ga_none'\n",
        ", 'n':'ga_noattachment'}\n",
        "\n",
        "x.replace({'gill-attachment':gill_attach_dict}, inplace=True)\n",
        "\n",
        "gill_color_dict = {'n':'gc_brown'\n",
        ", 'b':'gc_buff'\n",
        ", 'g':'gc_gray'\n",
        ", 'r':'gc_green'\n",
        ", 'p':'gc_pink'\n",
        ", 'u':'gc_purple'\n",
        ", 'e':'gc_red'\n",
        ", 'w':'gc_white'\n",
        ", 'y':'gc_yellow'\n",
        ", 'l':'gc_blue'\n",
        ", 'o':'gc_orange'\n",
        ", 'k':'gc_black'\n",
        ", 'f':'gc_none'}\n",
        "\n",
        "x.replace({'gill-color':gill_color_dict}, inplace=True)\n",
        "\n",
        "stem_color_dict = {'n':'sc_brown'\n",
        ", 'b':'sc_buff'\n",
        ", 'g':'sc_gray'\n",
        ", 'r':'sc_green'\n",
        ", 'p':'sc_pink'\n",
        ", 'u':'sc_purple'\n",
        ", 'e':'sc_red'\n",
        ", 'w':'sc_white'\n",
        ", 'y':'sc_yellow'\n",
        ", 'l':'sc_blue'\n",
        ", 'o':'sc_orange'\n",
        ", 'k':'sc_black'\n",
        ", 'f':'sc_none'}\n",
        "\n",
        "x.replace({'stem-color':stem_color_dict}, inplace=True)\n",
        "\n",
        "ring_type_dict = {'c':'rt_cobwebby'\n",
        ", 'e':'rt_evanescent'\n",
        ", 'r':'rt_flaring'\n",
        ", 'g':'rt_grooved'\n",
        ", 'l':'rt_large'\n",
        ", 'p':'rt_pendant'\n",
        ", 's':'rt_sheathing'\n",
        ", 'z':'rt_zone'\n",
        ", 'y':'rt_scaly'\n",
        ", 'm':'rt_movable'\n",
        ", 'f':'rt_none'}\n",
        "\n",
        "x.replace({'ring-type':ring_type_dict}, inplace=True)\n",
        "\n",
        "habitat_dict = {'g':'rtt_grasses'\n",
        ", 'l':'rtt_leaves'\n",
        ", 'm':'rtt_meadows'\n",
        ", 'p':'rtt_paths'\n",
        ", 'h':'rtt_heaths'\n",
        ", 'u':'rtt_urban'\n",
        ", 'w':'rtt_waste'\n",
        ", 'd':'rtt_woods'}\n",
        "\n",
        "x.replace({'habitat':habitat_dict}, inplace=True)\n",
        "\n",
        "season_dict = {'s':'s_spring'\n",
        ", 'u':'s_summer'\n",
        ", 'a':'s_autumn'\n",
        ", 'w':'s_winter'}\n",
        "\n",
        "x.replace({'season':season_dict}, inplace=True)"
      ]
    },
    {
      "cell_type": "code",
      "execution_count": null,
      "metadata": {
        "id": "oI40lEj2jHVc"
      },
      "outputs": [],
      "source": [
        "x = mushroom_data.drop('edibility', axis='columns')"
      ]
    },
    {
      "cell_type": "code",
      "execution_count": null,
      "metadata": {
        "id": "3sv73CXQpdu8"
      },
      "outputs": [],
      "source": [
        "logreg = LogisticRegression(solver='sag', max_iter=100)"
      ]
    },
    {
      "cell_type": "code",
      "execution_count": null,
      "metadata": {
        "id": "xOiYpPCNYD8K"
      },
      "outputs": [],
      "source": [
        "x_cap_diam = x.loc[:,['cap-diameter']]\n",
        "x_stem_width = x.loc[:,['stem-width']]\n",
        "x_stem_height = x.loc[:,['stem-height']]\n",
        "#y = mushroom_data.edibility"
      ]
    },
    {
      "cell_type": "code",
      "execution_count": null,
      "metadata": {
        "id": "PxDdLLPPv8GP"
      },
      "outputs": [],
      "source": [
        "cross_val_score(logreg, x_cap_diam, y, cv=5, scoring='accuracy').mean()\n",
        "#cross_val_score(logreg, x_stem_width, y, cv=5, scoring='accuracy').mean()\n",
        "#cross_val_score(logreg, x_stem_height, y, cv=5, scoring='accuracy').mean()"
      ]
    },
    {
      "cell_type": "code",
      "execution_count": null,
      "metadata": {
        "id": "T5J6dbVao13i"
      },
      "outputs": [],
      "source": [
        "column_trans.fit_transform(x)"
      ]
    },
    {
      "cell_type": "code",
      "execution_count": null,
      "metadata": {
        "colab": {
          "base_uri": "https://localhost:8080/",
          "height": 36
        },
        "id": "SCXK9qXqjoCi",
        "outputId": "827ad1d2-0210-4760-ba75-377fc6106779"
      },
      "outputs": [
        {
          "data": {
            "application/vnd.google.colaboratory.intrinsic+json": {
              "type": "string"
            },
            "text/plain": [
              "'sag'"
            ]
          },
          "execution_count": 22,
          "metadata": {},
          "output_type": "execute_result"
        }
      ],
      "source": [
        "logreg.solver"
      ]
    },
    {
      "cell_type": "code",
      "execution_count": null,
      "metadata": {
        "id": "UhH5zpwGiZo0"
      },
      "outputs": [],
      "source": [
        "pipe = make_pipeline(column_trans, logreg)"
      ]
    },
    {
      "cell_type": "code",
      "execution_count": null,
      "metadata": {
        "id": "hv6BQ3y6inoE"
      },
      "outputs": [],
      "source": [
        "#cross_val_score(logreg, dummies_df, y, cv=5, scoring='accuracy').mean()\n",
        "#cross_val_score(logreg, dummies_df, y, cv=5, scoring='accuracy').mean()\n",
        "cross_val_score(pipe, dummies_df, y, cv=5, scoring='accuracy').mean()"
      ]
    },
    {
      "cell_type": "code",
      "execution_count": null,
      "metadata": {
        "id": "_iRuIGBCehxR"
      },
      "outputs": [],
      "source": [
        "y_train, y_test, x_train, x_test = train_test_split(y, x, test_size=0.1)\n",
        "#y_train\n",
        "#y_test\n",
        "#x_train\n",
        "#x_test"
      ]
    },
    {
      "cell_type": "code",
      "source": [
        "CATEGORICAL_COLUMNS = ['cap-shape','cap-surface', 'cap-color', 'gill-attachment',\n",
        "                       'gill-color', 'stem-color', 'ring-type', 'habitat', 'season']\n",
        "NUMERIC_COLUMNS = ['cap-diameter', 'stem-height', 'stem-width', 'does-bruise-or-bleed', 'has-ring']\n",
        "\n",
        "feature_columns = []\n",
        "for feature_name in CATEGORICAL_COLUMNS:\n",
        "  vocabulary = x_train[feature_name].unique()  # gets a list of all unique values from given feature column\n",
        "  feature_columns.append(tf.feature_column.categorical_column_with_vocabulary_list(feature_name, vocabulary))\n",
        "\n",
        "for feature_name in NUMERIC_COLUMNS:\n",
        "  feature_columns.append(tf.feature_column.numeric_column(feature_name, dtype=tf.float32))\n"
      ],
      "metadata": {
        "id": "eNsfgjfZm1Ui"
      },
      "execution_count": null,
      "outputs": []
    },
    {
      "cell_type": "code",
      "source": [
        "x_train.head()"
      ],
      "metadata": {
        "colab": {
          "base_uri": "https://localhost:8080/",
          "height": 206
        },
        "id": "0iuRo5LGt-1G",
        "outputId": "2c909507-1efb-4c42-ebb1-bde50c7416f4"
      },
      "execution_count": null,
      "outputs": [
        {
          "output_type": "execute_result",
          "data": {
            "text/plain": [
              "       cap-diameter cap-shape cap-surface cap-color does-bruise-or-bleed  \\\n",
              "36298          5.97         x           h         n                    f   \n",
              "50664          3.65         x           d         n                    f   \n",
              "30705         10.92         s           t         p                    t   \n",
              "7515           4.03         f           l         y                    f   \n",
              "56219          8.91         o           e         r                    f   \n",
              "\n",
              "      gill-attachment gill-color  stem-height  stem-width stem-color has-ring  \\\n",
              "36298               x          w         5.94        6.11          n        t   \n",
              "50664               p          n         4.11        9.14          y        f   \n",
              "30705               d          o         6.31       18.15          w        f   \n",
              "7515                x          y         5.61        4.78          y        f   \n",
              "56219               n          o         1.60       13.40          n        f   \n",
              "\n",
              "      ring-type habitat season  \n",
              "36298         r       d      w  \n",
              "50664         f       d      a  \n",
              "30705         f       d      u  \n",
              "7515          f       l      u  \n",
              "56219         f       d      w  "
            ],
            "text/html": [
              "\n",
              "  <div id=\"df-080cc033-bf59-4136-8366-86b8a74f320a\">\n",
              "    <div class=\"colab-df-container\">\n",
              "      <div>\n",
              "<style scoped>\n",
              "    .dataframe tbody tr th:only-of-type {\n",
              "        vertical-align: middle;\n",
              "    }\n",
              "\n",
              "    .dataframe tbody tr th {\n",
              "        vertical-align: top;\n",
              "    }\n",
              "\n",
              "    .dataframe thead th {\n",
              "        text-align: right;\n",
              "    }\n",
              "</style>\n",
              "<table border=\"1\" class=\"dataframe\">\n",
              "  <thead>\n",
              "    <tr style=\"text-align: right;\">\n",
              "      <th></th>\n",
              "      <th>cap-diameter</th>\n",
              "      <th>cap-shape</th>\n",
              "      <th>cap-surface</th>\n",
              "      <th>cap-color</th>\n",
              "      <th>does-bruise-or-bleed</th>\n",
              "      <th>gill-attachment</th>\n",
              "      <th>gill-color</th>\n",
              "      <th>stem-height</th>\n",
              "      <th>stem-width</th>\n",
              "      <th>stem-color</th>\n",
              "      <th>has-ring</th>\n",
              "      <th>ring-type</th>\n",
              "      <th>habitat</th>\n",
              "      <th>season</th>\n",
              "    </tr>\n",
              "  </thead>\n",
              "  <tbody>\n",
              "    <tr>\n",
              "      <th>36298</th>\n",
              "      <td>5.97</td>\n",
              "      <td>x</td>\n",
              "      <td>h</td>\n",
              "      <td>n</td>\n",
              "      <td>f</td>\n",
              "      <td>x</td>\n",
              "      <td>w</td>\n",
              "      <td>5.94</td>\n",
              "      <td>6.11</td>\n",
              "      <td>n</td>\n",
              "      <td>t</td>\n",
              "      <td>r</td>\n",
              "      <td>d</td>\n",
              "      <td>w</td>\n",
              "    </tr>\n",
              "    <tr>\n",
              "      <th>50664</th>\n",
              "      <td>3.65</td>\n",
              "      <td>x</td>\n",
              "      <td>d</td>\n",
              "      <td>n</td>\n",
              "      <td>f</td>\n",
              "      <td>p</td>\n",
              "      <td>n</td>\n",
              "      <td>4.11</td>\n",
              "      <td>9.14</td>\n",
              "      <td>y</td>\n",
              "      <td>f</td>\n",
              "      <td>f</td>\n",
              "      <td>d</td>\n",
              "      <td>a</td>\n",
              "    </tr>\n",
              "    <tr>\n",
              "      <th>30705</th>\n",
              "      <td>10.92</td>\n",
              "      <td>s</td>\n",
              "      <td>t</td>\n",
              "      <td>p</td>\n",
              "      <td>t</td>\n",
              "      <td>d</td>\n",
              "      <td>o</td>\n",
              "      <td>6.31</td>\n",
              "      <td>18.15</td>\n",
              "      <td>w</td>\n",
              "      <td>f</td>\n",
              "      <td>f</td>\n",
              "      <td>d</td>\n",
              "      <td>u</td>\n",
              "    </tr>\n",
              "    <tr>\n",
              "      <th>7515</th>\n",
              "      <td>4.03</td>\n",
              "      <td>f</td>\n",
              "      <td>l</td>\n",
              "      <td>y</td>\n",
              "      <td>f</td>\n",
              "      <td>x</td>\n",
              "      <td>y</td>\n",
              "      <td>5.61</td>\n",
              "      <td>4.78</td>\n",
              "      <td>y</td>\n",
              "      <td>f</td>\n",
              "      <td>f</td>\n",
              "      <td>l</td>\n",
              "      <td>u</td>\n",
              "    </tr>\n",
              "    <tr>\n",
              "      <th>56219</th>\n",
              "      <td>8.91</td>\n",
              "      <td>o</td>\n",
              "      <td>e</td>\n",
              "      <td>r</td>\n",
              "      <td>f</td>\n",
              "      <td>n</td>\n",
              "      <td>o</td>\n",
              "      <td>1.60</td>\n",
              "      <td>13.40</td>\n",
              "      <td>n</td>\n",
              "      <td>f</td>\n",
              "      <td>f</td>\n",
              "      <td>d</td>\n",
              "      <td>w</td>\n",
              "    </tr>\n",
              "  </tbody>\n",
              "</table>\n",
              "</div>\n",
              "      <button class=\"colab-df-convert\" onclick=\"convertToInteractive('df-080cc033-bf59-4136-8366-86b8a74f320a')\"\n",
              "              title=\"Convert this dataframe to an interactive table.\"\n",
              "              style=\"display:none;\">\n",
              "        \n",
              "  <svg xmlns=\"http://www.w3.org/2000/svg\" height=\"24px\"viewBox=\"0 0 24 24\"\n",
              "       width=\"24px\">\n",
              "    <path d=\"M0 0h24v24H0V0z\" fill=\"none\"/>\n",
              "    <path d=\"M18.56 5.44l.94 2.06.94-2.06 2.06-.94-2.06-.94-.94-2.06-.94 2.06-2.06.94zm-11 1L8.5 8.5l.94-2.06 2.06-.94-2.06-.94L8.5 2.5l-.94 2.06-2.06.94zm10 10l.94 2.06.94-2.06 2.06-.94-2.06-.94-.94-2.06-.94 2.06-2.06.94z\"/><path d=\"M17.41 7.96l-1.37-1.37c-.4-.4-.92-.59-1.43-.59-.52 0-1.04.2-1.43.59L10.3 9.45l-7.72 7.72c-.78.78-.78 2.05 0 2.83L4 21.41c.39.39.9.59 1.41.59.51 0 1.02-.2 1.41-.59l7.78-7.78 2.81-2.81c.8-.78.8-2.07 0-2.86zM5.41 20L4 18.59l7.72-7.72 1.47 1.35L5.41 20z\"/>\n",
              "  </svg>\n",
              "      </button>\n",
              "      \n",
              "  <style>\n",
              "    .colab-df-container {\n",
              "      display:flex;\n",
              "      flex-wrap:wrap;\n",
              "      gap: 12px;\n",
              "    }\n",
              "\n",
              "    .colab-df-convert {\n",
              "      background-color: #E8F0FE;\n",
              "      border: none;\n",
              "      border-radius: 50%;\n",
              "      cursor: pointer;\n",
              "      display: none;\n",
              "      fill: #1967D2;\n",
              "      height: 32px;\n",
              "      padding: 0 0 0 0;\n",
              "      width: 32px;\n",
              "    }\n",
              "\n",
              "    .colab-df-convert:hover {\n",
              "      background-color: #E2EBFA;\n",
              "      box-shadow: 0px 1px 2px rgba(60, 64, 67, 0.3), 0px 1px 3px 1px rgba(60, 64, 67, 0.15);\n",
              "      fill: #174EA6;\n",
              "    }\n",
              "\n",
              "    [theme=dark] .colab-df-convert {\n",
              "      background-color: #3B4455;\n",
              "      fill: #D2E3FC;\n",
              "    }\n",
              "\n",
              "    [theme=dark] .colab-df-convert:hover {\n",
              "      background-color: #434B5C;\n",
              "      box-shadow: 0px 1px 3px 1px rgba(0, 0, 0, 0.15);\n",
              "      filter: drop-shadow(0px 1px 2px rgba(0, 0, 0, 0.3));\n",
              "      fill: #FFFFFF;\n",
              "    }\n",
              "  </style>\n",
              "\n",
              "      <script>\n",
              "        const buttonEl =\n",
              "          document.querySelector('#df-080cc033-bf59-4136-8366-86b8a74f320a button.colab-df-convert');\n",
              "        buttonEl.style.display =\n",
              "          google.colab.kernel.accessAllowed ? 'block' : 'none';\n",
              "\n",
              "        async function convertToInteractive(key) {\n",
              "          const element = document.querySelector('#df-080cc033-bf59-4136-8366-86b8a74f320a');\n",
              "          const dataTable =\n",
              "            await google.colab.kernel.invokeFunction('convertToInteractive',\n",
              "                                                     [key], {});\n",
              "          if (!dataTable) return;\n",
              "\n",
              "          const docLinkHtml = 'Like what you see? Visit the ' +\n",
              "            '<a target=\"_blank\" href=https://colab.research.google.com/notebooks/data_table.ipynb>data table notebook</a>'\n",
              "            + ' to learn more about interactive tables.';\n",
              "          element.innerHTML = '';\n",
              "          dataTable['output_type'] = 'display_data';\n",
              "          await google.colab.output.renderOutput(dataTable, element);\n",
              "          const docLink = document.createElement('div');\n",
              "          docLink.innerHTML = docLinkHtml;\n",
              "          element.appendChild(docLink);\n",
              "        }\n",
              "      </script>\n",
              "    </div>\n",
              "  </div>\n",
              "  "
            ]
          },
          "metadata": {},
          "execution_count": 22
        }
      ]
    },
    {
      "cell_type": "code",
      "execution_count": null,
      "metadata": {
        "id": "erf_aP-Wv6F7"
      },
      "outputs": [],
      "source": [
        "def make_input_fn(data_df, label_df, num_epochs=10, shuffle=True, batch_size=32):\n",
        "  def input_function():  # inner function, this will be returned\n",
        "    ds = tf.data.Dataset.from_tensor_slices((dict(data_df), label_df))  # create tf.data.Dataset object with data and its label\n",
        "    if shuffle:\n",
        "      ds = ds.shuffle(1000)  # randomize order of data\n",
        "    ds = ds.batch(batch_size).repeat(num_epochs)  # split dataset into batches of 32 and repeat process for number of epochs\n",
        "    return ds  # return a batch of the dataset\n",
        "  return input_function  # return a function object for use\n",
        "\n",
        "train_input_fn = make_input_fn(x_train, y_train)  # here we will call the input_function that was returned to us to get a dataset object we can feed to the model\n",
        "eval_input_fn = make_input_fn(x_test, y_test, num_epochs=1, shuffle=False)"
      ]
    },
    {
      "cell_type": "code",
      "source": [
        "linear_est = tf.estimator.LinearClassifier(feature_columns=feature_columns)"
      ],
      "metadata": {
        "id": "5YnXdH4ttc2W"
      },
      "execution_count": null,
      "outputs": []
    },
    {
      "cell_type": "code",
      "source": [
        "linear_est.train(train_input_fn)\n",
        "result = linear_est.evaluate(eval_input_fn)"
      ],
      "metadata": {
        "id": "4EK10eqImqUE"
      },
      "execution_count": null,
      "outputs": []
    },
    {
      "cell_type": "code",
      "source": [
        "print(result['accuracy'])"
      ],
      "metadata": {
        "colab": {
          "base_uri": "https://localhost:8080/"
        },
        "id": "GbY_8kC0mqp6",
        "outputId": "59cd8efa-aac9-457f-fdaa-d7995e3e50d7"
      },
      "execution_count": null,
      "outputs": [
        {
          "output_type": "stream",
          "name": "stdout",
          "text": [
            "0.7812346\n"
          ]
        }
      ]
    }
  ],
  "metadata": {
    "colab": {
      "provenance": [],
      "include_colab_link": true
    },
    "kernelspec": {
      "display_name": "Python 3",
      "name": "python3"
    },
    "language_info": {
      "name": "python"
    }
  },
  "nbformat": 4,
  "nbformat_minor": 0
}